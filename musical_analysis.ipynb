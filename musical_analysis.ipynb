{
 "cells": [
  {
   "cell_type": "code",
   "execution_count": 66,
   "metadata": {},
   "outputs": [],
   "source": [
    "import pandas as pd\n",
    "from glob import glob"
   ]
  },
  {
   "cell_type": "markdown",
   "metadata": {},
   "source": [
    "<style>\n",
    "    * {\n",
    "      margin: 0;\n",
    "      padding: 0;\n",
    "      box-sizing: border-box;\n",
    "    }\n",
    "    small {\n",
    "      font-size: 10px;\n",
    "    }\n",
    "    h5 {\n",
    "      margin-bottom: 5px;\n",
    "    }\n",
    "    p {\n",
    "      font-size: 14px;\n",
    "    }\n",
    "</style>\n",
    "\n",
    "<small>Combined and Cleaned - Meets 1/1</small>\n",
    "##### The datasets are combined into a single dataset held in a variable called **all_top_songs**."
   ]
  },
  {
   "cell_type": "code",
   "execution_count": 67,
   "metadata": {},
   "outputs": [],
   "source": [
    "filepaths = glob('spotifysongscsvs/*.csv')\n",
    "df_list = [pd.read_csv(fp) for fp in filepaths]\n",
    "all_top_songs = pd.concat(df_list, ignore_index=True)"
   ]
  },
  {
   "cell_type": "markdown",
   "metadata": {},
   "source": [
    "<style>\n",
    "    * {\n",
    "      margin: 0;\n",
    "      padding: 0;\n",
    "      box-sizing: border-box;\n",
    "    }\n",
    "    small {\n",
    "      font-size: 10px;\n",
    "    }\n",
    "    h5 {\n",
    "      margin-bottom: 5px;\n",
    "    }\n",
    "    p {\n",
    "      font-size: 14px;\n",
    "    }\n",
    "</style>\n",
    "\n",
    "<small>Project Files - Exceeds 1/1</small>\n",
    "##### You additionally have an exported CSV of all the files combined called **top_spotify_songs.csv**"
   ]
  },
  {
   "cell_type": "code",
   "execution_count": 68,
   "metadata": {},
   "outputs": [],
   "source": [
    "all_top_songs.to_csv('top_spotify_songs.csv', index=False)"
   ]
  },
  {
   "cell_type": "markdown",
   "metadata": {},
   "source": [
    "<style>\n",
    "    * {\n",
    "      margin: 0;\n",
    "      padding: 0;\n",
    "      box-sizing: border-box;\n",
    "    }\n",
    "    small {\n",
    "      font-size: 10px;\n",
    "    }\n",
    "    h5 {\n",
    "      margin-bottom: 5px;\n",
    "    }\n",
    "    p {\n",
    "      font-size: 14px;\n",
    "    }\n",
    "</style>\n",
    "\n",
    "<small>Questions - Meets 1/7</small>\n",
    "##### What is the most popular song in the dataset?\n",
    "\n",
    "**Memories** by Maroon 5 is the most popular song in the dataset. It has a popularity score of 99 out of 100."
   ]
  },
  {
   "cell_type": "code",
   "execution_count": 69,
   "metadata": {},
   "outputs": [
    {
     "data": {
      "text/plain": [
       "title     Memories\n",
       "artist    Maroon 5\n",
       "pop             99\n",
       "Name: 0, dtype: object"
      ]
     },
     "execution_count": 69,
     "metadata": {},
     "output_type": "execute_result"
    }
   ],
   "source": [
    "\n",
    "most_popular_song = all_top_songs.loc[all_top_songs['pop'].idxmax()]\n",
    "most_popular_song[['title', 'artist', 'pop']]"
   ]
  },
  {
   "cell_type": "markdown",
   "metadata": {},
   "source": [
    "<style>\n",
    "    * {\n",
    "      margin: 0;\n",
    "      padding: 0;\n",
    "      box-sizing: border-box;\n",
    "    }\n",
    "    small {\n",
    "      font-size: 10px;\n",
    "    }\n",
    "    h5 {\n",
    "      margin-bottom: 5px;\n",
    "    }\n",
    "    p {\n",
    "      font-size: 14px;\n",
    "    }\n",
    "</style>\n",
    "\n",
    "<small>Questions - Meets 2/7</small>\n",
    "##### What artist has the most songs in the dataset?\n",
    "**Katy Perry** has the most songs in the dataset with **17** songs. She is followed by Justin Bieber with 16 songs and Maroon 5 with 15 songs."
   ]
  },
  {
   "cell_type": "code",
   "execution_count": 70,
   "metadata": {},
   "outputs": [
    {
     "data": {
      "text/plain": [
       "artist\n",
       "Katy Perry    17\n",
       "Name: count, dtype: int64"
      ]
     },
     "execution_count": 70,
     "metadata": {},
     "output_type": "execute_result"
    }
   ],
   "source": [
    "all_top_songs['artist'].value_counts().head(1)"
   ]
  },
  {
   "cell_type": "markdown",
   "metadata": {},
   "source": [
    "<style>\n",
    "    * {\n",
    "      margin: 0;\n",
    "      padding: 0;\n",
    "      box-sizing: border-box;\n",
    "    }\n",
    "    small {\n",
    "      font-size: 10px;\n",
    "    }\n",
    "    h5 {\n",
    "      margin-bottom: 5px;\n",
    "    }\n",
    "    p {\n",
    "      font-size: 14px;\n",
    "    }\n",
    "</style>\n",
    "\n",
    "<small>Questions - Meets 3/7</small>\n",
    "##### What is the most popular genre of music in the dataset?\n",
    "\n",
    "Based on the number of songs in the dataset, the most popular genre of music is **Dance Pop** with **327** songs. It is followed by **Pop** with 60 songs, which *does* have a higher overall average popularity score, but a skewed result due to a much lower song count."
   ]
  },
  {
   "cell_type": "code",
   "execution_count": 73,
   "metadata": {},
   "outputs": [
    {
     "data": {
      "text/plain": [
       "top genre\n",
       "dance pop    327\n",
       "Name: count, dtype: int64"
      ]
     },
     "execution_count": 73,
     "metadata": {},
     "output_type": "execute_result"
    }
   ],
   "source": [
    "all_top_songs['top genre'].value_counts().head(1)"
   ]
  }
 ],
 "metadata": {
  "kernelspec": {
   "display_name": "Python 3",
   "language": "python",
   "name": "python3"
  },
  "language_info": {
   "codemirror_mode": {
    "name": "ipython",
    "version": 3
   },
   "file_extension": ".py",
   "mimetype": "text/x-python",
   "name": "python",
   "nbconvert_exporter": "python",
   "pygments_lexer": "ipython3",
   "version": "3.11.5"
  },
  "orig_nbformat": 4
 },
 "nbformat": 4,
 "nbformat_minor": 2
}
