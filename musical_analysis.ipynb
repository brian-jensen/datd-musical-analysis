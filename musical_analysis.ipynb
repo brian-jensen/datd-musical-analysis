{
 "cells": [
  {
   "cell_type": "code",
   "execution_count": 85,
   "metadata": {},
   "outputs": [],
   "source": [
    "import pandas as pd\n",
    "from glob import glob"
   ]
  },
  {
   "cell_type": "markdown",
   "metadata": {},
   "source": [
    "<style>\n",
    "    * {\n",
    "      margin: 0;\n",
    "      padding: 0;\n",
    "      box-sizing: border-box;\n",
    "    }\n",
    "    small {\n",
    "      font-size: 10px;\n",
    "    }\n",
    "    h5 {\n",
    "      margin-bottom: 5px;\n",
    "    }\n",
    "    p {\n",
    "      font-size: 14px;\n",
    "    }\n",
    "</style>\n",
    "\n",
    "<small>Combined and Cleaned - Meets 1/1</small>\n",
    "##### The datasets are combined into a single dataset held in a variable called **all_top_songs**."
   ]
  },
  {
   "cell_type": "code",
   "execution_count": 86,
   "metadata": {},
   "outputs": [],
   "source": [
    "filepaths = glob('spotifysongscsvs/*.csv')\n",
    "df_list = [pd.read_csv(fp) for fp in filepaths]\n",
    "all_top_songs = pd.concat(df_list, ignore_index=True)"
   ]
  },
  {
   "cell_type": "markdown",
   "metadata": {},
   "source": [
    "<style>\n",
    "    * {\n",
    "      margin: 0;\n",
    "      padding: 0;\n",
    "      box-sizing: border-box;\n",
    "    }\n",
    "    small {\n",
    "      font-size: 10px;\n",
    "    }\n",
    "    h5 {\n",
    "      margin-bottom: 5px;\n",
    "    }\n",
    "    p {\n",
    "      font-size: 14px;\n",
    "    }\n",
    "</style>\n",
    "\n",
    "<small>Project Files - Exceeds 1/1</small>\n",
    "##### You additionally have an exported CSV of all the files combined called **top_spotify_songs.csv**"
   ]
  },
  {
   "cell_type": "code",
   "execution_count": 87,
   "metadata": {},
   "outputs": [],
   "source": [
    "all_top_songs.to_csv('top_spotify_songs.csv', index=False)"
   ]
  },
  {
   "cell_type": "markdown",
   "metadata": {},
   "source": [
    "<style>\n",
    "    * {\n",
    "      margin: 0;\n",
    "      padding: 0;\n",
    "      box-sizing: border-box;\n",
    "    }\n",
    "    small {\n",
    "      font-size: 10px;\n",
    "    }\n",
    "    h5 {\n",
    "      margin-bottom: 5px;\n",
    "    }\n",
    "    p {\n",
    "      font-size: 14px;\n",
    "    }\n",
    "</style>\n",
    "\n",
    "<small>Questions - Meets 1/7</small>\n",
    "##### What is the most popular song in the dataset?\n",
    "\n",
    "**Memories** by Maroon 5 is the most popular song in the dataset. It has a popularity score of 99 out of 100."
   ]
  },
  {
   "cell_type": "code",
   "execution_count": 88,
   "metadata": {},
   "outputs": [
    {
     "data": {
      "text/plain": [
       "title     Memories\n",
       "artist    Maroon 5\n",
       "pop             99\n",
       "Name: 0, dtype: object"
      ]
     },
     "execution_count": 88,
     "metadata": {},
     "output_type": "execute_result"
    }
   ],
   "source": [
    "\n",
    "most_popular_song = all_top_songs.loc[all_top_songs['pop'].idxmax()]\n",
    "most_popular_song[['title', 'artist', 'pop']]"
   ]
  },
  {
   "cell_type": "markdown",
   "metadata": {},
   "source": [
    "<style>\n",
    "    * {\n",
    "      margin: 0;\n",
    "      padding: 0;\n",
    "      box-sizing: border-box;\n",
    "    }\n",
    "    small {\n",
    "      font-size: 10px;\n",
    "    }\n",
    "    h5 {\n",
    "      margin-bottom: 5px;\n",
    "    }\n",
    "    p {\n",
    "      font-size: 14px;\n",
    "    }\n",
    "</style>\n",
    "\n",
    "<small>Questions - Meets 2/7</small>\n",
    "##### What artist has the most songs in the dataset?\n",
    "**Katy Perry** has the most songs in the dataset with **17** songs. She is followed by Justin Bieber with 16 songs and Maroon 5 with 15 songs."
   ]
  },
  {
   "cell_type": "code",
   "execution_count": 89,
   "metadata": {},
   "outputs": [
    {
     "data": {
      "text/plain": [
       "artist\n",
       "Katy Perry    17\n",
       "Name: count, dtype: int64"
      ]
     },
     "execution_count": 89,
     "metadata": {},
     "output_type": "execute_result"
    }
   ],
   "source": [
    "all_top_songs['artist'].value_counts().head(1)"
   ]
  },
  {
   "cell_type": "markdown",
   "metadata": {},
   "source": [
    "<style>\n",
    "    * {\n",
    "      margin: 0;\n",
    "      padding: 0;\n",
    "      box-sizing: border-box;\n",
    "    }\n",
    "    small {\n",
    "      font-size: 10px;\n",
    "    }\n",
    "    h5 {\n",
    "      margin-bottom: 5px;\n",
    "    }\n",
    "    p {\n",
    "      font-size: 14px;\n",
    "    }\n",
    "</style>\n",
    "\n",
    "<small>Questions - Meets 3/7</small>\n",
    "##### What is the most popular genre of music in the dataset?\n",
    "\n",
    "Based on the number of songs in the dataset, the most popular genre of music is **Dance Pop** with **327** songs. It is followed by **Pop** with 60 songs, which *does* have a higher overall average popularity score, but a skewed result due to a much lower song count."
   ]
  },
  {
   "cell_type": "code",
   "execution_count": 90,
   "metadata": {},
   "outputs": [
    {
     "data": {
      "text/plain": [
       "top genre\n",
       "dance pop    327\n",
       "Name: count, dtype: int64"
      ]
     },
     "execution_count": 90,
     "metadata": {},
     "output_type": "execute_result"
    }
   ],
   "source": [
    "all_top_songs['top genre'].value_counts().head(1)"
   ]
  },
  {
   "cell_type": "markdown",
   "metadata": {},
   "source": [
    "<style>\n",
    "    * {\n",
    "      margin: 0;\n",
    "      padding: 0;\n",
    "      box-sizing: border-box;\n",
    "    }\n",
    "    small {\n",
    "      font-size: 10px;\n",
    "    }\n",
    "    h5 {\n",
    "      margin-bottom: 5px;\n",
    "    }\n",
    "    p {\n",
    "      font-size: 14px;\n",
    "    }\n",
    "</style>\n",
    "\n",
    "<small>Questions - Meets 4/7</small>\n",
    "##### Are there any songs in the dataset more than once?\n",
    "\n",
    "Yes, there are **16** songs that appear more than once in the dataset."
   ]
  },
  {
   "cell_type": "code",
   "execution_count": 98,
   "metadata": {},
   "outputs": [
    {
     "name": "stdout",
     "output_type": "stream",
     "text": [
      "                                               title         artist  count\n",
      "11   A Little Party Never Killed Nobody (All We Got)         Fergie      2\n",
      "20                                         All I Ask          Adele      2\n",
      "85           Castle Walls (feat. Christina Aguilera)           T.I.      2\n",
      "103                                          Company  Justin Bieber      2\n",
      "162                                       First Time           Kygo      2\n",
      "199                                             Here   Alessia Cara      2\n",
      "254                             Just the Way You Are     Bruno Mars      2\n",
      "259                                Kissing Strangers           DNCE      2\n",
      "302                                    Love Yourself  Justin Bieber      2\n",
      "313                                        Marry You     Bruno Mars      2\n",
      "410                            Runnin' (Lose It All)    Naughty Boy      2\n",
      "457                                         Stitches   Shawn Mendes      2\n",
      "462                                            Sugar       Maroon 5      2\n",
      "493                                        The Hills     The Weeknd      2\n",
      "539          We Are Never Ever Getting Back Together   Taylor Swift      2\n",
      "573         Written in the Stars (feat. Eric Turner)   Tinie Tempah      2\n",
      "\n",
      "Total: 16\n"
     ]
    }
   ],
   "source": [
    "duplicates = all_top_songs.groupby(['title', 'artist']).size().reset_index(name='count')\n",
    "duplicate_songs = duplicates[duplicates['count'] > 1]\n",
    "print(duplicate_songs)\n",
    "print(f'\\nTotal: {len(duplicate_songs)}')"
   ]
  }
 ],
 "metadata": {
  "kernelspec": {
   "display_name": "Python 3",
   "language": "python",
   "name": "python3"
  },
  "language_info": {
   "codemirror_mode": {
    "name": "ipython",
    "version": 3
   },
   "file_extension": ".py",
   "mimetype": "text/x-python",
   "name": "python",
   "nbconvert_exporter": "python",
   "pygments_lexer": "ipython3",
   "version": "3.11.5"
  },
  "orig_nbformat": 4
 },
 "nbformat": 4,
 "nbformat_minor": 2
}
